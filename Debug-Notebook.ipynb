{
 "cells": [
  {
   "cell_type": "code",
   "execution_count": 8,
   "id": "administrative-packaging",
   "metadata": {},
   "outputs": [],
   "source": [
    "import pandas as pd\n",
    "MS_Name = 'VLASS2.1.sb38611939.eb38656872.59108.99831386574'\n",
    "allsourcedf = pd.read_csv('No_VLA_Obs_Data_and_MS.csv')"
   ]
  },
  {
   "cell_type": "code",
   "execution_count": 12,
   "id": "neutral-nurse",
   "metadata": {},
   "outputs": [],
   "source": [
    "sig_source_df = allsourcedf[allsourcedf['MeSet'] == MS_Name]"
   ]
  },
  {
   "cell_type": "code",
   "execution_count": 13,
   "id": "noticed-eclipse",
   "metadata": {},
   "outputs": [
    {
     "data": {
      "text/html": [
       "<div>\n",
       "<style scoped>\n",
       "    .dataframe tbody tr th:only-of-type {\n",
       "        vertical-align: middle;\n",
       "    }\n",
       "\n",
       "    .dataframe tbody tr th {\n",
       "        vertical-align: top;\n",
       "    }\n",
       "\n",
       "    .dataframe thead th {\n",
       "        text-align: right;\n",
       "    }\n",
       "</style>\n",
       "<table border=\"1\" class=\"dataframe\">\n",
       "  <thead>\n",
       "    <tr style=\"text-align: right;\">\n",
       "      <th></th>\n",
       "      <th>J-Name</th>\n",
       "      <th>RA</th>\n",
       "      <th>DEC</th>\n",
       "      <th>MeSet</th>\n",
       "      <th>Unnamed: 4</th>\n",
       "    </tr>\n",
       "  </thead>\n",
       "  <tbody>\n",
       "    <tr>\n",
       "      <th>1</th>\n",
       "      <td>J1413+3947</td>\n",
       "      <td>213.25162</td>\n",
       "      <td>39.79588</td>\n",
       "      <td>VLASS2.1.sb38611939.eb38656872.59108.99831386574</td>\n",
       "      <td>NaN</td>\n",
       "    </tr>\n",
       "  </tbody>\n",
       "</table>\n",
       "</div>"
      ],
      "text/plain": [
       "       J-Name         RA       DEC  \\\n",
       "1  J1413+3947  213.25162  39.79588   \n",
       "\n",
       "                                              MeSet Unnamed: 4  \n",
       "1  VLASS2.1.sb38611939.eb38656872.59108.99831386574        NaN  "
      ]
     },
     "execution_count": 13,
     "metadata": {},
     "output_type": "execute_result"
    }
   ],
   "source": [
    "sig_source_df"
   ]
  },
  {
   "cell_type": "code",
   "execution_count": null,
   "id": "elementary-check",
   "metadata": {},
   "outputs": [],
   "source": []
  }
 ],
 "metadata": {
  "kernelspec": {
   "display_name": "Python 3",
   "language": "python",
   "name": "python3"
  },
  "language_info": {
   "codemirror_mode": {
    "name": "ipython",
    "version": 3
   },
   "file_extension": ".py",
   "mimetype": "text/x-python",
   "name": "python",
   "nbconvert_exporter": "python",
   "pygments_lexer": "ipython3",
   "version": "3.9.5"
  }
 },
 "nbformat": 4,
 "nbformat_minor": 5
}
